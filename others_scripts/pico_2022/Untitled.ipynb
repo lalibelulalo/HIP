{
 "cells": [
  {
   "cell_type": "code",
   "execution_count": 32,
   "id": "5c2facaa",
   "metadata": {},
   "outputs": [
    {
     "name": "stdout",
     "output_type": "stream",
     "text": [
      "gbff_files/\n"
     ]
    }
   ],
   "source": [
    "#!/usr/bin/env python3\n",
    "# -*- coding: utf-8 -*-\n",
    "\n",
    "import os\n",
    "import sys\n",
    "import re\n",
    "from Bio import SeqIO\n",
    "\n",
    "#set present working directory\n",
    "if len(sys.argv) > 1:\n",
    "    cwd = \"gbff_files/\"\n",
    "else:\n",
    "    cwd=os.getcwd()\n",
    "\n",
    "print(cwd)"
   ]
  },
  {
   "cell_type": "code",
   "execution_count": 29,
   "id": "29d19737",
   "metadata": {},
   "outputs": [],
   "source": [
    "os.listdir(cwd)\n",
    "\n",
    "for file_name in os.listdir(cwd):\n",
    "    if file_name.endswith('.gbff') or file_name.endswith('.gbk'):\n",
    "            path = \"\".join ([cwd, file_name])\n",
    "            path = str(path)\n",
    "            #print(path)\n",
    "            records = SeqIO.parse(path, \"genbank\")\n",
    "\n"
   ]
  },
  {
   "cell_type": "code",
   "execution_count": 66,
   "id": "3262158e",
   "metadata": {},
   "outputs": [
    {
     "name": "stdout",
     "output_type": "stream",
     "text": [
      "<Bio.SeqIO.InsdcIO.GenBankIterator object at 0x7fc74a5562e0>\n"
     ]
    }
   ],
   "source": [
    "#for record in SeqIO.parse(\"gbff_files/Cyanobium_gracile_PCC_6307_PCC_6307__genomic.gbff\", \"genbank\"):\n",
    "#    records = record\n",
    "records = SeqIO.parse(\"gbff_files/Cyanobium_gracile_PCC_6307_PCC_6307__genomic.gbff\", \"genbank\")\n",
    "print(records)"
   ]
  },
  {
   "cell_type": "code",
   "execution_count": 67,
   "id": "c9e2fa0d",
   "metadata": {},
   "outputs": [
    {
     "name": "stdout",
     "output_type": "stream",
     "text": [
      "Water, lake, Wisconsin, USA, 1949\n"
     ]
    }
   ],
   "source": [
    "for seq_record in records:\n",
    "    for feature in seq_record.features:\n",
    "        if 'source' in feature.type:\n",
    "            #print(feature.qualifiers)\n",
    "            #taxid=''.join(feature.qualifiers['db_xref'])\n",
    "            #taxid=re.sub(r'.*taxon:','',taxid)\n",
    "            environment=''.join(feature.qualifiers['isolation_source'])\n",
    "            #print(taxid)\n",
    "            print(environment)"
   ]
  },
  {
   "cell_type": "code",
   "execution_count": 70,
   "id": "b63eb846",
   "metadata": {},
   "outputs": [],
   "source": [
    "def get_fasta_in_kraken_format():\n",
    "    for file_name in os.listdir(cwd):\n",
    "        if file_name.endswith('.gbff') or file_name.endswith('.gbk'):\n",
    "            path = \"\".join ([cwd, file_name]) ##AGREGADA\n",
    "            path = str(path)## AGREGADA\n",
    "            records = SeqIO.parse(path, \"genbank\") ## path AGREGADO\n",
    "            for seq_record in records:\n",
    "                for feature in seq_record.features:\n",
    "                    if 'source' in feature.type:\n",
    "                        #print(feature.qualifiers)\n",
    "                        taxid=''.join(feature.qualifiers['db_xref'])\n",
    "                        taxid=re.sub(r'.*taxon:','',taxid)\n",
    "                        try:\n",
    "                            environment=''.join(feature.qualifiers['isolation_source'])\n",
    "                        except KeyError:\n",
    "                            environment=\"unspecified\"\n",
    "                        \n",
    "            print(file_name+'\\t'+seq_record.id+'\\t'+taxid+'\\t'+environment)                        \n",
    "                        \n",
    "    return\n"
   ]
  },
  {
   "cell_type": "code",
   "execution_count": 71,
   "id": "7de13ff1",
   "metadata": {},
   "outputs": [
    {
     "name": "stdout",
     "output_type": "stream",
     "text": [
      "Synechococcus_sp_EJ6-Ellesmere_EJ6-Ellesmere__genomic.gbff\tNZ_JAGQBY010000099.1\t2823734\tfreshwater\n",
      "Synechococcus_sp_BSA11S_BSA11S__genomic.gbff\tNZ_VNWP01000009.1\t2599077\tmarine water\n",
      "Synechococcus_sp_WH_8101_WH_8101__genomic.gbff\tNZ_CP047932.1\t59932\tmarine environment\n",
      "Synechococcus_sp_BMK-MC-1_genomic.gbff\tNZ_CP047939.1\t1442551\tmarine environment\n",
      "Synechococcus_sp_A15-62_A15-62__genomic.gbff\tNZ_CP047950.1\t1050657\tmarine environment\n",
      "Synechococcus_sp_ROS8604_genomic.gbff\tNZ_CP047946.1\t1442557\tmarine environment\n",
      "Synechococcus_sp_CB0101_CB0101__genomic.gbff\tNZ_CP039373.1\t232348\tunspecified\n",
      "Synechococcus_sp_JJ3a-Johnson_JJ3a-Johnson__genomic.gbff\tNZ_JAGQBT010000009.1\t2823738\tfreshwater\n",
      "Candidatus_Synechococcus_spongiarum_SP3_genomic.gbff\tJXQG01000090.1\t1604020\tsea water\n",
      "Cyanobium_sp_N5-Cardenillas_N5-Cardenillas__genomic.gbff\tNZ_JAGQBG010000099.1\t2823720\tfreshwater\n",
      "Synechococcus_sp_MIT_S9509_genomic.gbff\tNZ_LVHV01000033.1\t1801630\tocean water\n",
      "Synechococcus_sp_PCC_7336_PCC_7336__genomic.gbff\tNZ_CM001776.1\t195250\tSea water, tank, Berkeley, California, USA, 1971\n",
      "Synechococcus_sp_RS9915_genomic.gbff\tCP047934.1\t221358\tmarine environment\n",
      "Synechococcus_sp_MIT_S9220_MIT_S9220__genomic.gbff\tNZ_CP047958.1\t166309\tmarine environment\n",
      "Cyanobium_sp_ATX_6A2_ATX_6A2__genomic.gbff\tNZ_JAGQCU010000009.1\t2823700\tfreshwater\n",
      "Cyanobium_sp_BA20m-p-22_BA20m-p-22__genomic.gbff\tNZ_JAGQCQ010000099.1\t2823704\tfreshwater\n",
      "Synechococcus_sp_KORDI-100_KORDI_100__genomic.gbff\tNZ_CP006269.1\t1280380\tseawater\n",
      "Synechococcus_sp_MIT_S9504_genomic.gbff\tNZ_LVHT01000034.1\t1801628\tocean water\n",
      "Cyanobium_sp_Cruz_CV13-4-11_Cruz_CV13-4-11__genomic.gbff\tNZ_JAGQCH010000009.1\t2823710\tfreshwater\n",
      "Cyanobium_sp_BA5m-21_BA5m-21__genomic.gbff\tNZ_JAGQCO010000092.1\t2823706\tfreshwater\n",
      "Candidatus_Synechococcus_spongiarum_LMB_bulk15N_genomic.gbff\tNZ_MWLE01000016.1\t1943583\tfew separated cells obtained by FACS sorting: DNA amplified by MDA; pinacoderm\n",
      "Synechococcus_sp_RedBA-s_RedBA-s__genomic.gbff\tNZ_JAGQBF010000009.1\t2823741\tfreshwater\n",
      "Cyanobium_sp_Alchichica_3B3-8F6_Alchichica_3B3-8F6__genomic.gbff\tNZ_JAGQCZ010000009.1\t2823696\tfreshwater\n",
      "Synechococcus_sp_8F6_8F6__genomic.gbff\tNZ_NQKZ01000013.1\t2025606\twater\n",
      "Synechococcus_sp_BIOS-U3-1_genomic.gbff\tNZ_CP047936.1\t1400865\tmarine environment\n",
      "Synechococcus_sp_BO_8801_genomic.gbff\tNQKY01000038.1\t169670\twater\n",
      "Synechococcus_sp_JA-3-3Ab_JA-3-3Ab__genomic.gbff\tNC_007775.1\t321327\ttop 2mm of microbial mat from collected 51-61 deg C temperature site in the Octopus Spring effluent channel, Yellowstone National Park\n",
      "Cyanobium_sp_T1B-Tous_T1B-Tous__genomic.gbff\tNZ_JAGQBE010000099.1\t2823721\tfreshwater\n",
      "Synechococcus_sp_A15-24_genomic.gbff\tCP047960.1\t1050635\tmarine environment\n",
      "Cyanobium_sp_NIES-981_genomic.gbff\tNZ_LT578417.1\t1851505\tunspecified\n",
      "Synechococcus_sp_BSF8S_BSF8S__genomic.gbff\tNZ_VOBS01000009.1\t2599078\tmarine water\n",
      "Synechococcus_lacustris_L1F-Slac_L1F-Slac__genomic.gbff\tNZ_JAGQBQ010000009.1\t2823750\tfreshwater\n",
      "Synechococcus_sp_REDSEA-S02_B4_genomic.gbff\tLURK01000009.1\t1811576\tRed Sea water column Station 12 - depth 25m\n",
      "Cyanobium_sp_BA5m-10_BA5m-10__genomic.gbff\tNZ_JAGQCP010000093.1\t2823705\tfreshwater\n",
      "Synechococcus_sp_SynAce01_genomic.gbff\tNZ_CP018091.1\t1916956\twater\n",
      "Synechococcus_lacustris_L1E-Slac_L1E-Slac__genomic.gbff\tNZ_JAGQBR010000009.1\t2823749\tfreshwater\n",
      "Synechococcus_sp_L2F_genomic.gbff\tNZ_JAGQBP010000009.1\t2823739\tfreshwater\n",
      "Synechococcus_sp_BS56D_BS56D__genomic.gbff\tNZ_PHQU01000008.1\t2055944\tMarine (Black Sea)\n",
      "Cyanobium_sp_CH-040_CH-040__genomic.gbff\tNZ_JAGQCJ010000009.1\t2823708\tfreshwater\n",
      "Synechococcus_sp_BL107_BL107__genomic.gbff\tNZ_DS022298.1\t313625\tunspecified\n",
      "Cyanobium_gracile_PCC_6307_PCC_6307__genomic.gbff\tNC_019675.1\t292564\tWater, lake, Wisconsin, USA, 1949\n",
      "Cyanobium_sp_BA20m-14_BA20m-14__genomic.gbff\tNZ_JAGQCR010000099.1\t2823703\tfreshwater\n",
      "Vulcanococcus_limneticus_Candia_3F8_Candia_3F8__genomic.gbff\tNZ_JAGQCL010000090.1\t2823744\tfreshwater\n",
      "Cyanobium_sp_Morenito_9A2_Morenito_9A2__genomic.gbff\tNZ_JAGQBJ010000009.1\t2823718\tfreshwater\n",
      "Synechococcus_sp_Cruz-7E5_Cruz-7E5__genomic.gbff\tNZ_JAGQCE010000009.1\t2823730\tfreshwater\n",
      "Synechococcus_sp_PCC_7117_PCC_7117__genomic.gbff\tNZ_CP016482.1\t195498\tunspecified\n",
      "Synechococcus_sp_MW101C3_MW101C3__genomic.gbff\tNZ_NQKX01000002.1\t210768\twater\n",
      "Candidatus_Synechococcus_spongiarum_LMB_bulk15M_genomic.gbff\tMWLD01000060.1\t1943582\tfew separated cells obtained by FACS sorting: DNA amplified by MDA; pinacoderm\n",
      "Synechococcus_sp_KORDI-52_KORDI_52__genomic.gbff\tNZ_CP006271.1\t585425\tseawater\n",
      "Cyanobium_sp_Tous-M-B4_Tous-M-B4__genomic.gbff\tNZ_JAGQBA010000009.1\t2823724\tfreshwater\n",
      "Synechococcus_sp_1G10_1G10__genomic.gbff\tNZ_NQKW01000024.1\t2025605\twater\n",
      "Cyanobium_sp_T1G-Tous_T1G-Tous__genomic.gbff\tNZ_JAGQBD010000009.1\t2823722\tfreshwater\n",
      "Synechococcus_sp_WH_7805_WH_7805__genomic.gbff\tNZ_AAOK01000011.1\t59931\tunspecified\n",
      "Prochlorococcus_marinus_str_AS9601_AS9601__genomic.gbff\tNC_008816.1\t146891\tunspecified\n",
      "Synechococcus_sp_PROS-U-1_genomic.gbff\tNZ_CP047951.1\t1400866\tmarine environment\n",
      "Synechococcus_sp_RS9909_RS9909__genomic.gbff\tNZ_CP047943.1\t221352\tmarine environment\n",
      "Synechococcus_sp_LTW-R_LTW-R__genomic.gbff\tNZ_CP059060.1\t2751170\tseawater\n",
      "Synechococcus_sp_CC9605_CC9605__genomic.gbff\tNC_007516.1\t110662\tunspecified\n",
      "Synechococcus_sp_MVIR-18-1_genomic.gbff\tNZ_CP047942.1\t1386941\tmarine environment\n",
      "Synechococcus_sp_PCC_73109_PCC_73109__genomic.gbff\tNZ_CP014003.1\t374982\tunspecified\n",
      "Cyanobium_sp_NS01_NS01__genomic.gbff\tNZ_CP047940.1\t261284\tmarine environment\n",
      "Synechococcus_sp_RCC307_genomic.gbff\tCT978603.1\t316278\tunspecified\n",
      "Synechococcus_sp_BS55D_BS55D__genomic.gbff\tNZ_PHQT01000007.1\t2055943\tMarine (Black Sea)\n",
      "Synechococcus_sp_RS9902_RS9902__genomic.gbff\tNZ_CP047949.1\t221345\tmarine environment\n",
      "Synechococcus_lacustris_Maggiore-St4-Slac_Maggiore-St4-Slac__genomic.gbff\tNZ_JAGQBK010000009.1\t2823751\tfreshwater\n",
      "Candidatus_Synechococcus_spongiarum_142_genomic.gbff\tJXUO01000058.1\t1608213\tsea water\n",
      "Synechococcus_sp_REDSEA-S01_B1_genomic.gbff\tLURJ01000009.1\t1811575\tRed Sea water column Station 12 - depth 10m\n",
      "Synechococcus_sp_PROS-9-1_genomic.gbff\tNZ_CP047961.1\t1968775\tmarine environment\n",
      "Cyanobium_sp_L1E-Cus_L1E-Cus__genomic.gbff\tNZ_JAGQBS010000009.1\t2823714\tfreshwater\n",
      "Synechococcus_sp_RS9916_RS9916__genomic.gbff\tNZ_DS022299.1\t221359\tunspecified\n",
      "Synechococcus_sp_PCC_6312_PCC_6312__genomic.gbff\tNC_019681.1\t195253\tFresh water, California, USA., 1963\n",
      "Synechococcus_sp_HJ21-Hayes_HJ21-Hayes__genomic.gbff\tNZ_JAGQBW010000009.1\t2823736\tfreshwater\n",
      "Synechococcus_sp_PCC_7003_PCC_7003__genomic.gbff\tNZ_CP016476.1\t374981\tunspecified\n",
      "Candidatus_Synechococcus_spongiarum_genomic.gbff\tNZ_FITM01000096.1\t431041\twater\n",
      "Synechococcus_sp_PCC_7002_PCC_7002__genomic.gbff\tNZ_JAHHPT010000009.1\t32049\tco-cultured for 2 years and then re-isolated\n",
      "Cyanobium_sp_ATX_6F1_ATX_6F1__genomic.gbff\tNZ_JAGQCS010000009.1\t2823702\tfreshwater\n",
      "Cyanobium_sp_Maggiore-St4-Cus_Maggiore-St4-Cus__genomic.gbff\tNZ_JAGQBL010000009.1\t2823717\tfreshwater\n",
      "Cyanobium_sp_Aljojuca_7D2_Aljojuca_7D2__genomic.gbff\tNZ_JAGQCX010000009.1\t2823698\tfreshwater\n",
      "Synechococcus_sp_BOUM118_genomic.gbff\tCP047947.1\t1442552\tmarine environment\n",
      "Synechococcus_sp_GreenBA-s_GreenBA-s__genomic.gbff\tNZ_JAGQBX010000092.1\t2823735\tfreshwater\n",
      "Synechococcus_sp_Cruz_CV-v-12_Cruz_CV-v-12__genomic.gbff\tNZ_JAGQCG010000009.1\t2823728\tfreshwater\n",
      "Synechococcus_sp_SYN20_SYN20__genomic.gbff\tNZ_CP047959.1\t1050714\tmarine environment\n",
      "Cyanobium_sp_Aljojuca_7A6_Aljojuca_7A6__genomic.gbff\tNZ_JAGQCY010000009.1\t2823697\tfreshwater\n",
      "Synechococcus_sp_WH_5701_WH_5701__genomic.gbff\tNZ_AANO01000015.1\t69042\tunspecified\n",
      "Synechococcus_sp_NKBG042902_NKBG042902__genomic.gbff\tNZ_BAWS01000001.1\t490193\tunspecified\n",
      "Cyanobium_sp_La_Preciosa_7G6_La_Preciosa_7G6__genomic.gbff\tNZ_JAGQBO010000009.1\t2823715\tfreshwater\n",
      "Synechococcus_sp_NOUM97013_genomic.gbff\tNZ_CP047941.1\t1442555\tmarine environment\n",
      "Cyanobium_sp_A1C-AMD_A1C-AMD__genomic.gbff\tNZ_JAGQDB010000099.1\t2823694\tfreshwater\n",
      "Synechococcus_sp_CB0205_CB0205__genomic.gbff\tNZ_ADXM01000001.1\t232363\tChesapeake Bay\n",
      "Synechococcus_sp_OG1_genomic.gbff\tNZ_FXBO01000001.1\t1938863\tunspecified\n",
      "Cyanobium_sp_Cruz-8D1_Cruz-8D1__genomic.gbff\tNZ_JAGQCD010000099.1\t2823711\tfreshwater\n",
      "Synechococcus_sp_ATX_2A4_ATX_2A4__genomic.gbff\tNZ_JAGQCV010000009.1\t2823727\tfreshwater\n"
     ]
    },
    {
     "name": "stdout",
     "output_type": "stream",
     "text": [
      "Cyanobium_sp_HWJ4-Hawea_HWJ4-Hawea__genomic.gbff\tNZ_JAGQBV010000094.1\t2823713\tfreshwater\n",
      "Cyanobium_sp_PCC_7001_PCC_7001__genomic.gbff\tNZ_DS990556.1\t180281\tunspecified\n",
      "Synechococcus_elongatus_PCC_6301_PCC_6301__genomic.gbff\tNZ_CP085787.1\t269084\tENVO:00002228\n",
      "Prochlorococcus_marinus_str_MIT_9215_MIT_9215__genomic.gbff\tNC_009840.1\t93060\tunspecified\n",
      "Candidatus_Synechococcus_spongiarum_SH4_genomic.gbff\tNZ_JENA01000273.1\t1451353\tThe tissue of Red Sea sponge Carteriospongia foliascens\n",
      "Cyanobium_sp_ATX_6E8_ATX_6E8__genomic.gbff\tNZ_JAGQCT010000009.1\t2823701\tfreshwater\n",
      "Synechococcus_sp_RS9917_RS9917_RCC556_genomic.gbff\tNZ_CH724158.1\t221360\tunspecified\n",
      "Cyanobium_sp_A2C-AMD_A2C-AMD__genomic.gbff\tNZ_JAGQDA010000099.1\t2823695\tfreshwater\n",
      "Synechococcus_lacustris_C3-12m-Tous_C3-12m-Tous__genomic.gbff\tNZ_JAGQCN010000009.1\t2823746\tfreshwater\n",
      "Synechococcus_elongatus_PCC_7942_=_FACHB-805_FACHB-805__genomic.gbff\tNZ_JACJTX010000009.1\t1140\tfreshwater\n",
      "Cyanobium_sp_Cruz_CV11-17_genomic.gbff\tNZ_JAGQCI010000009.1\t2823709\tfreshwater\n",
      "Candidatus_Synechococcus_spongiarum_15L_genomic.gbff\tJYFQ01000099.1\t1608419\tsea water\n",
      "Synechococcus_sp_M16_1_genomic.gbff\tNZ_CP047954.1\t1442553\tmarine environment\n",
      "Synechococcus_sp_CC9311_CC9311__genomic.gbff\tNC_008319.1\t64471\tedge of California current after nitrate enrichment and low light incubation\n",
      "Synechococcus_sp_A18-40_genomic.gbff\tCP047956.1\t1866939\tmarine environment\n",
      "Synechococcus_sp_WH_8103_genomic.gbff\tLN847356.1\t29410\twater\n",
      "Synechococcus_sp_MEDNS5_genomic.gbff\tNZ_CP047952.1\t1442554\tmarine environment\n",
      "Synechococcus_sp_Edmonson_11F2_Edmonson_11F2__genomic.gbff\tNZ_JAGQBZ010000009.1\t2823733\tfreshwater\n",
      "Synechococcus_sp_A15-127_A15-127__genomic.gbff\tNZ_CP047948.1\t1050624\tmarine environment\n",
      "Synechococcus_sp_Cruz_CV12-2-Slac-r_Cruz_CV12-2-Slac-r__genomic.gbff\tNZ_JAGQEK010000099.1\t2823748\tfreshwater\n",
      "Cyanobium_usitatum_str_Tous_Tous__genomic.gbff\tNZ_PXXO01000009.1\t2116684\tfreshwater reservoir\n",
      "Cyanobium_sp_WAJ14-Wanaka_WAJ14-Wanaka__genomic.gbff\tNZ_JAGQAZ010000007.1\t2823725\tfreshwater\n",
      "Synechococcus_lacustris_str_Tous_genomic.gbff\tNZ_PXVC01000099.1\t1910958\tfreshwater reservoir\n",
      "Cyanobium_sp_CACIAM_14_genomic.gbff\tJMRP01000071.1\t1496688\t5 liters of water from the Tucurui Power Plant Reservoir, point M5 collected 50cm beneath the lake surface, then filtered by negative pressure for posterior culture in BG-11 medium\n",
      "Synechococcus_sp_CC9616_CC9616__genomic.gbff\tNZ_KI911558.1\t110663\tnot provided; submitted under MIGS 2.1\n",
      "Synechococcus_sp_Cruz-7B9_Cruz-7B9__genomic.gbff\tNZ_JAGQCF010000009.1\t2823729\tfreshwater\n",
      "Synechococcus_elongatus_UTEX_2973_UTEX_2973__genomic.gbff\tNZ_CP006473.1\t1350461\tunspecified\n",
      "Synechococcus_sp_Tobar12-5m-g_Tobar12-5m-g__genomic.gbff\tNZ_JAGQBB010000009.1\t2823742\tfreshwater\n",
      "Vulcanococcus_limneticus_MW73D5_MW73D5__genomic.gbff\tNZ_JAGQBI010000009.1\t2823745\tfreshwater\n",
      "Parasynechococcus_marenigrum_WH_8102_WH_8102__genomic.gbff\tNC_005070.1\t84588\tunspecified\n",
      "Cyanobium_sp_AMD-g_genomic.gbff\tNZ_JAGQCW010000009.1\t2823699\tfreshwater\n",
      "Prochlorococcus_marinus_str_NATL1A_NATL1A__genomic.gbff\tNC_008819.1\t167555\tunspecified\n",
      "Synechococcus_sp_A18-46_1_genomic.gbff\tCP047955.1\t1866940\tmarine environment\n",
      "Synechococcus_sp_GFB01_genomic.gbff\tNZ_LFEK01000099.1\t1662190\tLago dos Indios\n",
      "Cyanobium_sp_WKJ7-Wakatipu_WKJ7-Wakatipu__genomic.gbff\tNZ_JAGQAY010000009.1\t2823726\tfreshwater\n",
      "Vulcanococcus_limneticus_Candia_3B3_Candia_3B3__genomic.gbff\tNZ_JAGQCM010000009.1\t2823743\tfreshwater\n",
      "Synechococcus_sp_J7-Johnson_J7-Johnson__genomic.gbff\tNZ_JAGQBU010000009.1\t2823737\tfreshwater\n",
      "Synechococcus_sp_A15-60_A15-60__genomic.gbff\tNZ_CP047933.1\t1050655\tmarine environment\n",
      "Synechococcus_sp_A18-25c_genomic.gbff\tNZ_CP047957.1\t1866938\tmarine environment\n",
      "Synechococcus_sp_RS9907_RS9907__genomic.gbff\tNZ_CP047944.1\t221350\tmarine environment\n",
      "Synechococcus_sp_WH_7803_genomic.gbff\tCT971583.1\t32051\tunspecified\n",
      "Synechococcus_lacustris_Cruz_CV12-2_Cruz_CV12-2__genomic.gbff\tNZ_JAGQDO010000099.1\t2823747\tfreshwater\n",
      "Prochlorococcus_marinus_subsp_pastoris_str_CCMP1986_MED4__genomic.gbff\tNC_005072.1\t59919\tunspecified\n",
      "Synechococcus_sp_A15-44_A15-44__genomic.gbff\tNZ_CP047938.1\t1050646\tmarine environment\n",
      "Cyanobium_sp_Lug-B_genomic.gbff\tNZ_JAGQBM010000099.1\t2823716\tfreshwater\n",
      "Cyanobium_sp_Cruz-8H5_Cruz-8H5__genomic.gbff\tNZ_JAGQCC010000092.1\t2823712\tfreshwater\n",
      "Cyanobium_sp_N_Huapi_1H5_N_Huapi_1H5__genomic.gbff\tNZ_JAGQBH010000009.1\t2823719\tfreshwater\n",
      "Synechococcus_sp_BIOS-E4-1_genomic.gbff\tNZ_CP047935.1\t1400864\tmarine environment\n",
      "Synechococcus_sp_WH_8016_WH_8016__genomic.gbff\tNZ_AGIK01000001.1\t166318\tWoods Hole, MA\n",
      "Prochlorococcus_marinus_str_MIT_9312_MIT_9312__genomic.gbff\tNC_007577.1\t74546\tunspecified\n",
      "Synechococcus_sp_CC9902_CC9902__genomic.gbff\tNC_007513.1\t316279\tunspecified\n",
      "Synechococcus_sp_Cruz-9H2_Cruz-9H2__genomic.gbff\tNZ_JAGQCA010000009.1\t2823732\tfreshwater\n",
      "Synechococcus_sp_A15-28_genomic.gbff\tCP047931.1\t1050638\tmarine environment\n",
      "Synechococcus_sp_Lug-A_genomic.gbff\tNZ_JAGQBN010000009.1\t2823740\tfreshwater\n",
      "Synechococcus_sp_PCC_8807_PCC_8807__genomic.gbff\tNZ_CP016489.1\t195248\tunspecified\n",
      "Synechococcus_sp_Cruz-9C9_Cruz-9C9__genomic.gbff\tNZ_JAGQCB010000009.1\t2823731\tfreshwater\n",
      "Synechococcus_sp_HK01-R_HK01-R__genomic.gbff\tNZ_CP059059.1\t2751171\tseawater\n",
      "Prochlorococcus_marinus_str_NATL2A_NATL2A__genomic.gbff\tNC_007335.2\t59920\tunspecified\n",
      "Synechococcus_sp_KORDI-49_KORDI_49__genomic.gbff\tNZ_CP006270.1\t585423\tseawater\n",
      "Cyanobium_sp_Cruz_CV11-17_Cruz_CV11-17__genomic.gbff\tNZ_JAGQCI010000009.1\t2823709\tfreshwater\n",
      "Synechococcus_sp_Minos11_MINOS11__genomic.gbff\tNZ_CP047953.1\t221341\tmarine environment\n",
      "Synechococcus_sp_TAK9802_genomic.gbff\tNZ_CP047937.1\t1442558\tmarine environment\n",
      "Synechococcus_sp_PCC_7502_PCC_7502__genomic.gbff\tNC_019692.1\t1173263\tsphagnum bog\n",
      "Cyanobium_sp_Candia_9D4_Candia_9D4__genomic.gbff\tNZ_JAGQCK010000009.1\t2823707\tfreshwater\n",
      "Synechococcus_sp_MIT_S9508_genomic.gbff\tNZ_LVHU01000023.1\t1801629\tocean water\n",
      "Vulcanococcus_limneticus_LL_LL__genomic.gbff\tNZ_NQLA01000032.1\t2025607\twater\n",
      "Synechococcus_sp_PROS-7-1_genomic.gbff\tNZ_CP047945.1\t1442556\tmarine environment\n"
     ]
    }
   ],
   "source": [
    "get_fasta_in_kraken_format()"
   ]
  },
  {
   "cell_type": "code",
   "execution_count": 43,
   "id": "54ce0ddc",
   "metadata": {},
   "outputs": [
    {
     "data": {
      "text/plain": [
       "<Bio.SeqIO.InsdcIO.GenBankIterator at 0x7fc770622a60>"
      ]
     },
     "execution_count": 43,
     "metadata": {},
     "output_type": "execute_result"
    }
   ],
   "source": [
    "records"
   ]
  }
 ],
 "metadata": {
  "kernelspec": {
   "display_name": "Python 3 (ipykernel)",
   "language": "python",
   "name": "python3"
  },
  "language_info": {
   "codemirror_mode": {
    "name": "ipython",
    "version": 3
   },
   "file_extension": ".py",
   "mimetype": "text/x-python",
   "name": "python",
   "nbconvert_exporter": "python",
   "pygments_lexer": "ipython3",
   "version": "3.9.12"
  }
 },
 "nbformat": 4,
 "nbformat_minor": 5
}
